{
 "cells": [
  {
   "cell_type": "code",
   "execution_count": 1,
   "id": "53a144aa",
   "metadata": {},
   "outputs": [],
   "source": [
    "import pandas as pd\n",
    "import numpy as np\n",
    "from tqdm import tqdm\n",
    "from matplotlib import pyplot as plt\n",
    "import os\n",
    "import cv2\n",
    "#os.environ['TF_FORCE_GPU_ALLOW_GROWTH'] = 'true'\n",
    "os.environ[\"CUDA_VISIBLE_DEVICES\"] = \"-1\""
   ]
  },
  {
   "cell_type": "code",
   "execution_count": 2,
   "id": "deef1372",
   "metadata": {
    "scrolled": true
   },
   "outputs": [
    {
     "name": "stderr",
     "output_type": "stream",
     "text": [
      "100%|██████████| 43/43 [00:05<00:00,  7.38it/s]"
     ]
    },
    {
     "name": "stdout",
     "output_type": "stream",
     "text": [
      "(39209, 64, 64, 3) (39209,)\n"
     ]
    },
    {
     "name": "stderr",
     "output_type": "stream",
     "text": [
      "\n"
     ]
    }
   ],
   "source": [
    "data = []\n",
    "labels = []\n",
    "classes = 43\n",
    "cur_path = 'Train'\n",
    "\n",
    "for i in tqdm(os.listdir(cur_path)):\n",
    "    directory = cur_path + '/' + i\n",
    "    for j in os.listdir(directory):\n",
    "        img_path = directory+'/'+j\n",
    "        img = cv2.imread(img_path,-1)\n",
    "        img = cv2.resize(img, (64,64), interpolation = cv2.INTER_NEAREST)\n",
    "        data.append(img)\n",
    "        labels.append(i)\n",
    "        \n",
    "data = np.array(data)\n",
    "labels = np.array(labels)\n",
    "print(data.shape, labels.shape)"
   ]
  },
  {
   "cell_type": "code",
   "execution_count": 3,
   "id": "95215179",
   "metadata": {
    "scrolled": true
   },
   "outputs": [
    {
     "data": {
      "text/plain": [
       "<matplotlib.image.AxesImage at 0x7f50aa7cccd0>"
      ]
     },
     "execution_count": 3,
     "metadata": {},
     "output_type": "execute_result"
    },
    {
     "data": {
      "image/png": "[encoded data removed]",
      "text/plain": [
       "<Figure size 432x288 with 1 Axes>"
      ]
     },
     "metadata": {
      "needs_background": "light"
     },
     "output_type": "display_data"
    }
   ],
   "source": [
    "plt.imshow(data[3907])"
   ]
  },
  {
   "cell_type": "code",
   "execution_count": 4,
   "id": "6c13ce5e",
   "metadata": {},
   "outputs": [],
   "source": [
    "from keras.models import Sequential\n",
    "from keras.layers import Dense, Conv2D, MaxPooling2D, Flatten, Dropout, BatchNormalization\n",
    "from sklearn.model_selection import train_test_split"
   ]
  },
  {
   "cell_type": "code",
   "execution_count": 5,
   "id": "7aa2119b",
   "metadata": {},
   "outputs": [
    {
     "name": "stdout",
     "output_type": "stream",
     "text": [
      "((29406, 64, 64, 3), (29406,)) ((9803, 64, 64, 3), (9803,))\n"
     ]
    }
   ],
   "source": [
    "import tensorflow as tf\n",
    "\n",
    "x_train, x_test, y_train, y_test = train_test_split(data, labels, test_size= 0.25, random_state=21)\n",
    "\n",
    "print((x_train.shape, y_train.shape), (x_test.shape, y_test.shape))\n",
    "\n",
    "# converting the labels into one hot encoding\n",
    "y_train = tf.keras.utils.to_categorical(y_train, 43)\n",
    "y_test = tf.keras.utils.to_categorical(y_test, 43)"
   ]
  },
  {
   "cell_type": "code",
   "execution_count": 6,
   "id": "7942fb14",
   "metadata": {},
   "outputs": [
    {
     "name": "stdout",
     "output_type": "stream",
     "text": [
      "Model: \"sequential\"\n",
      "_________________________________________________________________\n",
      "Layer (type)                 Output Shape              Param #   \n",
      "=================================================================\n",
      "conv2d (Conv2D)              (None, 16, 16, 96)        34944     \n",
      "_________________________________________________________________\n",
      "max_pooling2d (MaxPooling2D) (None, 8, 8, 96)          0         \n",
      "_________________________________________________________________\n",
      "conv2d_1 (Conv2D)            (None, 8, 8, 256)         614656    \n",
      "_________________________________________________________________\n",
      "max_pooling2d_1 (MaxPooling2 (None, 4, 4, 256)         0         \n",
      "_________________________________________________________________\n",
      "conv2d_2 (Conv2D)            (None, 4, 4, 384)         885120    \n",
      "_________________________________________________________________\n",
      "conv2d_3 (Conv2D)            (None, 4, 4, 384)         1327488   \n",
      "_________________________________________________________________\n",
      "conv2d_4 (Conv2D)            (None, 4, 4, 256)         884992    \n",
      "_________________________________________________________________\n",
      "max_pooling2d_2 (MaxPooling2 (None, 2, 2, 256)         0         \n",
      "_________________________________________________________________\n",
      "flatten (Flatten)            (None, 1024)              0         \n",
      "_________________________________________________________________\n",
      "dense (Dense)                (None, 4096)              4198400   \n",
      "_________________________________________________________________\n",
      "dense_1 (Dense)              (None, 4096)              16781312  \n",
      "_________________________________________________________________\n",
      "dropout (Dropout)            (None, 4096)              0         \n",
      "_________________________________________________________________\n",
      "dense_2 (Dense)              (None, 1000)              4097000   \n",
      "_________________________________________________________________\n",
      "dropout_1 (Dropout)          (None, 1000)              0         \n",
      "_________________________________________________________________\n",
      "dense_3 (Dense)              (None, 43)                43043     \n",
      "=================================================================\n",
      "Total params: 28,866,955\n",
      "Trainable params: 28,866,955\n",
      "Non-trainable params: 0\n",
      "_________________________________________________________________\n"
     ]
    }
   ],
   "source": [
    "model = Sequential()\n",
    "#1st Convolutional Layer\n",
    "model.add(Conv2D(filters=96, input_shape=(64,64,3), activation='relu', kernel_size=(11,11), strides=(4,4), padding='same'))\n",
    "model.add(MaxPooling2D(pool_size=(3,3), strides=(2,2), padding='same'))\n",
    "\n",
    "#2nd Convolutional Layer\n",
    "model.add(Conv2D(filters=256, kernel_size=(5, 5), activation='relu', strides=(1,1), padding='same'))\n",
    "model.add(MaxPooling2D(pool_size=(3,3), strides=(2,2), padding='same'))\n",
    "\n",
    "#3rd Convolutional Layer\n",
    "model.add(Conv2D(filters=384, kernel_size=(3,3), activation='relu', strides=(1,1), padding='same'))\n",
    "\n",
    "#4th Convolutional Layer\n",
    "model.add(Conv2D(filters=384, kernel_size=(3,3), activation='relu', strides=(1,1), padding='same'))\n",
    "\n",
    "#5th Convolutional Layer\n",
    "model.add(Conv2D(filters=256, kernel_size=(3,3), activation='relu', strides=(1,1), padding='same'))\n",
    "model.add(MaxPooling2D(pool_size=(3,3), strides=(2,2), padding='same'))\n",
    "\n",
    "#Passing it to a Fully Connected layer\n",
    "model.add(Flatten())\n",
    "\n",
    "# 1st Fully Connected Layer\n",
    "model.add(Dense(4096, input_shape=(32,32,3,), activation='relu'))\n",
    "\n",
    "#2nd Fully Connected Layer\n",
    "model.add(Dense(4096, activation='relu'))\n",
    "model.add(Dropout(0.5))\n",
    "\n",
    "#3rd Fully Connected Layer\n",
    "model.add(Dense(1000, activation='relu'))\n",
    "model.add(Dropout(0.5))\n",
    "\n",
    "model.add(Dense(43, activation='softmax'))\n",
    "\n",
    "\n",
    "model.summary()"
   ]
  },
  {
   "cell_type": "code",
   "execution_count": 7,
   "id": "24aed85a",
   "metadata": {
    "scrolled": false
   },
   "outputs": [
    {
     "name": "stdout",
     "output_type": "stream",
     "text": [
      "Model: \"sequential\"\n",
      "_________________________________________________________________\n",
      "Layer (type)                 Output Shape              Param #   \n",
      "=================================================================\n",
      "conv2d (Conv2D)              (None, 16, 16, 96)        34944     \n",
      "_________________________________________________________________\n",
      "max_pooling2d (MaxPooling2D) (None, 8, 8, 96)          0         \n",
      "_________________________________________________________________\n",
      "conv2d_1 (Conv2D)            (None, 8, 8, 256)         614656    \n",
      "_________________________________________________________________\n",
      "max_pooling2d_1 (MaxPooling2 (None, 4, 4, 256)         0         \n",
      "_________________________________________________________________\n",
      "conv2d_2 (Conv2D)            (None, 4, 4, 384)         885120    \n",
      "_________________________________________________________________\n",
      "conv2d_3 (Conv2D)            (None, 4, 4, 384)         1327488   \n",
      "_________________________________________________________________\n",
      "conv2d_4 (Conv2D)            (None, 4, 4, 256)         884992    \n",
      "_________________________________________________________________\n",
      "max_pooling2d_2 (MaxPooling2 (None, 2, 2, 256)         0         \n",
      "_________________________________________________________________\n",
      "flatten (Flatten)            (None, 1024)              0         \n",
      "_________________________________________________________________\n",
      "dense (Dense)                (None, 4096)              4198400   \n",
      "_________________________________________________________________\n",
      "dense_1 (Dense)              (None, 4096)              16781312  \n",
      "_________________________________________________________________\n",
      "dropout (Dropout)            (None, 4096)              0         \n",
      "_________________________________________________________________\n",
      "dense_2 (Dense)              (None, 1000)              4097000   \n",
      "_________________________________________________________________\n",
      "dropout_1 (Dropout)          (None, 1000)              0         \n",
      "_________________________________________________________________\n",
      "dense_3 (Dense)              (None, 43)                43043     \n",
      "=================================================================\n",
      "Total params: 28,866,955\n",
      "Trainable params: 28,866,955\n",
      "Non-trainable params: 0\n",
      "_________________________________________________________________\n"
     ]
    }
   ],
   "source": [
    "model.compile(loss = 'categorical_crossentropy', optimizer = 'adam', metrics = ['accuracy']) #CCE: For Multiclass problems\n",
    "model.summary()"
   ]
  },
  {
   "cell_type": "code",
   "execution_count": 8,
   "id": "3ca1be93",
   "metadata": {
    "scrolled": true
   },
   "outputs": [
    {
     "data": {
      "image/png": "[encoded data removed]",
      "text/plain": [
       "<PIL.Image.Image image mode=RGBA size=1916x86 at 0x7F50101F7C70>"
      ]
     },
     "execution_count": 8,
     "metadata": {},
     "output_type": "execute_result"
    }
   ],
   "source": [
    "import visualkeras\n",
    "visualkeras.layered_view(model)"
   ]
  },
  {
   "cell_type": "code",
   "execution_count": 9,
   "id": "c1aba4c0",
   "metadata": {},
   "outputs": [
    {
     "name": "stdout",
     "output_type": "stream",
     "text": [
      "Epoch 1/15\n",
      "460/460 [==============================] - 262s 545ms/step - loss: 3.5436 - accuracy: 0.1482 - val_loss: 1.8489 - val_accuracy: 0.3754\n",
      "Epoch 2/15\n",
      "460/460 [==============================] - 251s 546ms/step - loss: 1.8856 - accuracy: 0.3632 - val_loss: 1.8359 - val_accuracy: 0.3818\n",
      "Epoch 3/15\n",
      "460/460 [==============================] - 245s 532ms/step - loss: 1.7105 - accuracy: 0.4120 - val_loss: 1.5402 - val_accuracy: 0.4647\n",
      "Epoch 4/15\n",
      "460/460 [==============================] - 273s 594ms/step - loss: 1.5428 - accuracy: 0.4677 - val_loss: 1.3705 - val_accuracy: 0.5287\n",
      "Epoch 5/15\n",
      "460/460 [==============================] - 271s 590ms/step - loss: 1.4290 - accuracy: 0.5100 - val_loss: 1.3838 - val_accuracy: 0.5420\n",
      "Epoch 6/15\n",
      "460/460 [==============================] - 268s 582ms/step - loss: 1.2991 - accuracy: 0.5611 - val_loss: 1.2263 - val_accuracy: 0.5827\n",
      "Epoch 7/15\n",
      "460/460 [==============================] - 257s 558ms/step - loss: 1.1733 - accuracy: 0.6021 - val_loss: 1.1203 - val_accuracy: 0.6344\n",
      "Epoch 8/15\n",
      "460/460 [==============================] - 256s 558ms/step - loss: 1.0814 - accuracy: 0.6410 - val_loss: 0.9310 - val_accuracy: 0.6871\n",
      "Epoch 9/15\n",
      "460/460 [==============================] - 260s 566ms/step - loss: 0.9803 - accuracy: 0.6761 - val_loss: 0.9104 - val_accuracy: 0.7043\n",
      "Epoch 10/15\n",
      "460/460 [==============================] - 258s 560ms/step - loss: 0.9032 - accuracy: 0.7055 - val_loss: 1.1525 - val_accuracy: 0.6310\n",
      "Epoch 11/15\n",
      "460/460 [==============================] - 265s 576ms/step - loss: 0.8477 - accuracy: 0.7212 - val_loss: 0.9417 - val_accuracy: 0.6934\n",
      "Epoch 12/15\n",
      "460/460 [==============================] - 274s 595ms/step - loss: 0.7844 - accuracy: 0.7438 - val_loss: 0.7383 - val_accuracy: 0.7579\n",
      "Epoch 13/15\n",
      "460/460 [==============================] - 260s 565ms/step - loss: 0.6914 - accuracy: 0.7769 - val_loss: 0.7437 - val_accuracy: 0.7577\n",
      "Epoch 14/15\n",
      "460/460 [==============================] - 254s 551ms/step - loss: 0.7118 - accuracy: 0.7768 - val_loss: 0.7431 - val_accuracy: 0.7548\n",
      "Epoch 15/15\n",
      "460/460 [==============================] - 283s 615ms/step - loss: 0.6976 - accuracy: 0.7811 - val_loss: 0.6568 - val_accuracy: 0.7914\n"
     ]
    }
   ],
   "source": [
    "epochs = 15\n",
    "history = model.fit(x_train, y_train, \n",
    "                   batch_size=64,\n",
    "                   epochs=epochs,\n",
    "                   validation_data=(x_test, y_test))\n",
    "    \n",
    "    "
   ]
  },
  {
   "cell_type": "code",
   "execution_count": 10,
   "id": "36dc74c4",
   "metadata": {},
   "outputs": [
    {
     "name": "stdout",
     "output_type": "stream",
     "text": [
      "dict_keys(['loss', 'accuracy', 'val_loss', 'val_accuracy'])\n"
     ]
    },
    {
     "data": {
      "image/png": "[encoded data removed]",
      "text/plain": [
       "<Figure size 432x288 with 1 Axes>"
      ]
     },
     "metadata": {
      "needs_background": "light"
     },
     "output_type": "display_data"
    },
    {
     "data": {
      "image/png": "[encoded data removed]",
      "text/plain": [
       "<Figure size 432x288 with 1 Axes>"
      ]
     },
     "metadata": {
      "needs_background": "light"
     },
     "output_type": "display_data"
    }
   ],
   "source": [
    "# list all data in history\n",
    "print(history.history.keys())\n",
    "# summarize history for accuracy\n",
    "plt.plot(history.history['accuracy'])\n",
    "plt.plot(history.history['val_accuracy'])\n",
    "plt.title('model accuracy')\n",
    "plt.ylabel('accuracy')\n",
    "plt.xlabel('epoch')\n",
    "plt.legend(['train', 'test'], loc='upper left')\n",
    "plt.show()\n",
    "# summarize history for loss\n",
    "plt.plot(history.history['loss'])\n",
    "plt.plot(history.history['val_loss'])\n",
    "plt.title('model loss')\n",
    "plt.ylabel('loss')\n",
    "plt.xlabel('epoch')\n",
    "plt.legend(['train', 'test'], loc='upper left')\n",
    "plt.show()"
   ]
  },
  {
   "cell_type": "code",
   "execution_count": 11,
   "id": "681f7d69",
   "metadata": {
    "scrolled": true
   },
   "outputs": [
    {
     "name": "stdout",
     "output_type": "stream",
     "text": [
      "INFO:tensorflow:Assets written to: alexnet_model/assets\n"
     ]
    }
   ],
   "source": [
    "model.save('alexnet_model')"
   ]
  },
  {
   "cell_type": "code",
   "execution_count": 12,
   "id": "f8c3c6ce",
   "metadata": {},
   "outputs": [],
   "source": [
    "y_test = pd.read_csv('Test.csv')"
   ]
  },
  {
   "cell_type": "code",
   "execution_count": 13,
   "id": "249be9fc",
   "metadata": {},
   "outputs": [],
   "source": [
    "labels_test = y_test['ClassId'].values\n",
    "img_test = y_test['Path'].values\n",
    "test_dir = ''\n",
    "data = []\n",
    "for img in img_test:\n",
    "    img_path = os.path.join(test_dir, img)\n",
    "    image = cv2.imread(img_path, -1)\n",
    "    image = cv2.resize(image, (64,64), interpolation = cv2.INTER_NEAREST)\n",
    "    data.append(np.array(image))\n",
    "X_test = np.array(data)"
   ]
  },
  {
   "cell_type": "code",
   "execution_count": 16,
   "id": "94ac6919",
   "metadata": {
    "scrolled": true
   },
   "outputs": [
    {
     "name": "stdout",
     "output_type": "stream",
     "text": [
      "Test accuracy:  64.2042755344418\n"
     ]
    }
   ],
   "source": [
    "from sklearn.metrics import accuracy_score\n",
    "pred = np.argmax(model.predict(X_test), axis=-1)\n",
    "\n",
    "print(\"Test accuracy: \", accuracy_score(labels_test, pred) * 100 )"
   ]
  }
 ],
 "metadata": {
  "kernelspec": {
   "display_name": "Python 3",
   "language": "python",
   "name": "python3"
  },
  "language_info": {
   "codemirror_mode": {
    "name": "ipython",
    "version": 3
   },
   "file_extension": ".py",
   "mimetype": "text/x-python",
   "name": "python",
   "nbconvert_exporter": "python",
   "pygments_lexer": "ipython3",
   "version": "3.9.5"
  }
 },
 "nbformat": 4,
 "nbformat_minor": 5
}

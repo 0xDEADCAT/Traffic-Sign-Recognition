{
 "cells": [
  {
   "cell_type": "code",
   "execution_count": 1,
   "id": "53a144aa",
   "metadata": {},
   "outputs": [],
   "source": [
    "import matplotlib as plt\n",
    "import pandas as pd\n",
    "import numpy as np\n",
    "import keras\n",
    "from tqdm import tqdm\n",
    "from keras.preprocessing import image\n",
    "import matplotlib \n",
    "from matplotlib import pyplot as plt\n",
    "import os\n",
    "import cv2"
   ]
  },
  {
   "cell_type": "code",
   "execution_count": 2,
   "id": "deef1372",
   "metadata": {
    "scrolled": true
   },
   "outputs": [
    {
     "name": "stderr",
     "output_type": "stream",
     "text": [
      "100%|█████████████████████████████████████████████████████████████████████████████████████████████████████████████████████████████████████| 43/43 [00:11<00:00,  3.67it/s]"
     ]
    },
    {
     "name": "stdout",
     "output_type": "stream",
     "text": [
      "(39209, 64, 64, 3) (39209,)\n"
     ]
    },
    {
     "name": "stderr",
     "output_type": "stream",
     "text": [
      "\n"
     ]
    }
   ],
   "source": [
    "data = []\n",
    "labels = []\n",
    "classes = 43\n",
    "cur_path = 'Train'\n",
    "\n",
    "for i in tqdm(os.listdir(cur_path)):\n",
    "    dir = cur_path + '/' + i\n",
    "    for j in os.listdir(dir):\n",
    "        img_path = dir+'/'+j\n",
    "        img = cv2.imread(img_path,-1)\n",
    "        img = cv2.resize(img, (64,64), interpolation = cv2.INTER_NEAREST)\n",
    "        data.append(img)\n",
    "        labels.append(i)\n",
    "        \n",
    "data = np.array(data)\n",
    "labels = np.array(labels)\n",
    "print(data.shape, labels.shape)"
   ]
  },
  {
   "cell_type": "code",
   "execution_count": 3,
   "id": "95215179",
   "metadata": {
    "scrolled": true
   },
   "outputs": [
    {
     "data": {
      "text/plain": [
       "<matplotlib.image.AxesImage at 0x21da36bfb50>"
      ]
     },
     "execution_count": 3,
     "metadata": {},
     "output_type": "execute_result"
    },
    {
     "data": {
      "image/png": "[encoded data removed]",
      "text/plain": [
       "<Figure size 432x288 with 1 Axes>"
      ]
     },
     "metadata": {
      "needs_background": "light"
     },
     "output_type": "display_data"
    }
   ],
   "source": [
    "plt.imshow(data[3907])"
   ]
  },
  {
   "cell_type": "code",
   "execution_count": 4,
   "id": "6c13ce5e",
   "metadata": {},
   "outputs": [],
   "source": [
    "from keras.models import Sequential\n",
    "from keras.layers import Dense, Conv2D, AveragePooling2D, Flatten, Dropout, BatchNormalization\n",
    "from sklearn.model_selection import train_test_split"
   ]
  },
  {
   "cell_type": "code",
   "execution_count": 5,
   "id": "7aa2119b",
   "metadata": {},
   "outputs": [
    {
     "name": "stdout",
     "output_type": "stream",
     "text": [
      "((29406, 64, 64, 3), (29406,)) ((9803, 64, 64, 3), (9803,))\n"
     ]
    }
   ],
   "source": [
    "import tensorflow as tf\n",
    "\n",
    "x_train, x_test, y_train, y_test = train_test_split(data, labels, test_size= 0.25, random_state=21)\n",
    "\n",
    "print((x_train.shape, y_train.shape), (x_test.shape, y_test.shape))\n",
    "\n",
    "# converting the labels into one hot encoding\n",
    "y_train = tf.keras.utils.to_categorical(y_train, 43)\n",
    "y_test = tf.keras.utils.to_categorical(y_test, 43)"
   ]
  },
  {
   "cell_type": "code",
   "execution_count": 6,
   "id": "7942fb14",
   "metadata": {},
   "outputs": [],
   "source": [
    "model = Sequential()\n",
    "\n",
    "model.add(Conv2D(filters=32, kernel_size=(5, 5), activation='relu', input_shape=(64,64,3)))\n",
    "\n",
    "model.add(Flatten())\n",
    "\n",
    "model.add(Dense(units=43, activation = 'softmax'))"
   ]
  },
  {
   "cell_type": "code",
   "execution_count": 7,
   "id": "24aed85a",
   "metadata": {
    "scrolled": false
   },
   "outputs": [
    {
     "name": "stdout",
     "output_type": "stream",
     "text": [
      "Model: \"sequential\"\n",
      "_________________________________________________________________\n",
      "Layer (type)                 Output Shape              Param #   \n",
      "=================================================================\n",
      "conv2d (Conv2D)              (None, 60, 60, 32)        2432      \n",
      "_________________________________________________________________\n",
      "flatten (Flatten)            (None, 115200)            0         \n",
      "_________________________________________________________________\n",
      "dense (Dense)                (None, 43)                4953643   \n",
      "=================================================================\n",
      "Total params: 4,956,075\n",
      "Trainable params: 4,956,075\n",
      "Non-trainable params: 0\n",
      "_________________________________________________________________\n"
     ]
    }
   ],
   "source": [
    "model.compile(loss = 'categorical_crossentropy', optimizer = 'adam', metrics = ['accuracy']) #CCE: For Multiclass problems\n",
    "model.summary()"
   ]
  },
  {
   "cell_type": "code",
   "execution_count": 8,
   "id": "3ca1be93",
   "metadata": {
    "scrolled": true
   },
   "outputs": [
    {
     "data": {
      "image/png": "[encoded data removed]",
      "text/plain": [
       "<PIL.Image.Image image mode=RGBA size=524x320 at 0x21DE670F850>"
      ]
     },
     "execution_count": 8,
     "metadata": {},
     "output_type": "execute_result"
    }
   ],
   "source": [
    "import visualkeras\n",
    "visualkeras.layered_view(model)"
   ]
  },
  {
   "cell_type": "code",
   "execution_count": 9,
   "id": "c1aba4c0",
   "metadata": {},
   "outputs": [
    {
     "name": "stdout",
     "output_type": "stream",
     "text": [
      "Epoch 1/15\n",
      "460/460 [==============================] - 40s 60ms/step - loss: 41.1673 - accuracy: 0.3953 - val_loss: 1.6623 - val_accuracy: 0.7525\n",
      "Epoch 2/15\n",
      "460/460 [==============================] - 27s 58ms/step - loss: 0.8073 - accuracy: 0.8185 - val_loss: 1.2689 - val_accuracy: 0.7509\n",
      "Epoch 3/15\n",
      "460/460 [==============================] - 27s 59ms/step - loss: 0.5360 - accuracy: 0.8794 - val_loss: 1.3046 - val_accuracy: 0.7646\n",
      "Epoch 4/15\n",
      "460/460 [==============================] - 27s 59ms/step - loss: 0.4148 - accuracy: 0.9068 - val_loss: 1.5855 - val_accuracy: 0.7709\n",
      "Epoch 5/15\n",
      "460/460 [==============================] - 27s 59ms/step - loss: 0.3024 - accuracy: 0.9331 - val_loss: 1.6398 - val_accuracy: 0.7878\n",
      "Epoch 6/15\n",
      "460/460 [==============================] - 27s 59ms/step - loss: 0.3764 - accuracy: 0.9184 - val_loss: 1.8359 - val_accuracy: 0.8151\n",
      "Epoch 7/15\n",
      "460/460 [==============================] - 28s 60ms/step - loss: 0.3437 - accuracy: 0.9275 - val_loss: 1.8557 - val_accuracy: 0.8333\n",
      "Epoch 8/15\n",
      "460/460 [==============================] - 27s 58ms/step - loss: 0.3200 - accuracy: 0.9397 - val_loss: 1.9178 - val_accuracy: 0.8293\n",
      "Epoch 9/15\n",
      "460/460 [==============================] - 27s 60ms/step - loss: 0.2102 - accuracy: 0.9555 - val_loss: 2.0510 - val_accuracy: 0.7958\n",
      "Epoch 10/15\n",
      "460/460 [==============================] - 31s 66ms/step - loss: 0.3302 - accuracy: 0.9311 - val_loss: 3.4903 - val_accuracy: 0.1161\n",
      "Epoch 11/15\n",
      "460/460 [==============================] - 30s 65ms/step - loss: 3.3712 - accuracy: 0.1454 - val_loss: 3.6498 - val_accuracy: 0.1980\n",
      "Epoch 12/15\n",
      "460/460 [==============================] - 30s 65ms/step - loss: 2.4678 - accuracy: 0.4331 - val_loss: 2.3403 - val_accuracy: 0.6142\n",
      "Epoch 13/15\n",
      "460/460 [==============================] - 30s 65ms/step - loss: 1.2209 - accuracy: 0.7037 - val_loss: 3.5758 - val_accuracy: 0.1627\n",
      "Epoch 14/15\n",
      "460/460 [==============================] - 30s 65ms/step - loss: 2.5620 - accuracy: 0.3671 - val_loss: 3.6253 - val_accuracy: 0.3306\n",
      "Epoch 15/15\n",
      "460/460 [==============================] - 29s 63ms/step - loss: 1.7657 - accuracy: 0.5685 - val_loss: 3.3492 - val_accuracy: 0.4652\n"
     ]
    }
   ],
   "source": [
    "epochs = 15\n",
    "history = model.fit(x_train, y_train, \n",
    "                   batch_size=64,\n",
    "                   epochs=epochs,\n",
    "                   validation_data=(x_test, y_test))\n",
    "    \n",
    "    "
   ]
  },
  {
   "cell_type": "code",
   "execution_count": 10,
   "id": "36dc74c4",
   "metadata": {},
   "outputs": [
    {
     "name": "stdout",
     "output_type": "stream",
     "text": [
      "dict_keys(['loss', 'accuracy', 'val_loss', 'val_accuracy'])\n"
     ]
    },
    {
     "data": {
      "image/png": "[encoded data removed]",
      "text/plain": [
       "<Figure size 432x288 with 1 Axes>"
      ]
     },
     "metadata": {
      "needs_background": "light"
     },
     "output_type": "display_data"
    },
    {
     "data": {
      "image/png": "[encoded data removed]",
      "text/plain": [
       "<Figure size 432x288 with 1 Axes>"
      ]
     },
     "metadata": {
      "needs_background": "light"
     },
     "output_type": "display_data"
    }
   ],
   "source": [
    "# list all data in history\n",
    "print(history.history.keys())\n",
    "# summarize history for accuracy\n",
    "plt.plot(history.history['accuracy'])\n",
    "plt.plot(history.history['val_accuracy'])\n",
    "plt.title('model accuracy')\n",
    "plt.ylabel('accuracy')\n",
    "plt.xlabel('epoch')\n",
    "plt.legend(['train', 'test'], loc='upper left')\n",
    "plt.show()\n",
    "# summarize history for loss\n",
    "plt.plot(history.history['loss'])\n",
    "plt.plot(history.history['val_loss'])\n",
    "plt.title('model loss')\n",
    "plt.ylabel('loss')\n",
    "plt.xlabel('epoch')\n",
    "plt.legend(['train', 'test'], loc='upper left')\n",
    "plt.show()"
   ]
  },
  {
   "cell_type": "code",
   "execution_count": 11,
   "id": "681f7d69",
   "metadata": {
    "scrolled": true
   },
   "outputs": [
    {
     "name": "stdout",
     "output_type": "stream",
     "text": [
      "INFO:tensorflow:Assets written to: lenet_model\\assets\n"
     ]
    }
   ],
   "source": [
    "model.save('lenet_model')"
   ]
  },
  {
   "cell_type": "code",
   "execution_count": 12,
   "id": "f8c3c6ce",
   "metadata": {},
   "outputs": [],
   "source": [
    "y_test = pd.read_csv('Test.csv')"
   ]
  },
  {
   "cell_type": "code",
   "execution_count": 23,
   "id": "249be9fc",
   "metadata": {},
   "outputs": [],
   "source": [
    "test_labels = y_test['ClassId'].values\n",
    "paths = y_test['Path'].values\n",
    "test_dir = ''\n",
    "data = []\n",
    "for path in paths:\n",
    "    full_path = os.path.join(test_dir, path)\n",
    "    image = cv2.imread(full_path, -1)\n",
    "    image = cv2.resize(image, (64,64), interpolation = cv2.INTER_NEAREST)\n",
    "    data.append(np.array(image))\n",
    "test_data = np.array(data)"
   ]
  },
  {
   "cell_type": "code",
   "execution_count": 27,
   "id": "94ac6919",
   "metadata": {
    "scrolled": true
   },
   "outputs": [
    {
     "name": "stderr",
     "output_type": "stream",
     "text": [
      "C:\\Users\\raxon\\AppData\\Roaming\\Python\\Python38\\site-packages\\keras\\engine\\sequential.py:450: UserWarning: `model.predict_classes()` is deprecated and will be removed after 2021-01-01. Please use instead:* `np.argmax(model.predict(x), axis=-1)`,   if your model does multi-class classification   (e.g. if it uses a `softmax` last-layer activation).* `(model.predict(x) > 0.5).astype(\"int32\")`,   if your model does binary classification   (e.g. if it uses a `sigmoid` last-layer activation).\n",
      "  warnings.warn('`model.predict_classes()` is deprecated and '\n"
     ]
    },
    {
     "name": "stdout",
     "output_type": "stream",
     "text": [
      "Test accuracy: 40.03958828186857\n"
     ]
    }
   ],
   "source": [
    "from sklearn.metrics import accuracy_score\n",
    "pred = model.predict_classes(test_data)\n",
    "print(\"Test accuracy: {}\".format(accuracy_score(test_labels, pred) * 100))"
   ]
  },
  {
   "cell_type": "code",
   "execution_count": null,
   "id": "6651be01",
   "metadata": {},
   "outputs": [],
   "source": []
  }
 ],
 "metadata": {
  "kernelspec": {
   "display_name": "Python 3",
   "language": "python",
   "name": "python3"
  },
  "language_info": {
   "codemirror_mode": {
    "name": "ipython",
    "version": 3
   },
   "file_extension": ".py",
   "mimetype": "text/x-python",
   "name": "python",
   "nbconvert_exporter": "python",
   "pygments_lexer": "ipython3",
   "version": "3.8.10"
  }
 },
 "nbformat": 4,
 "nbformat_minor": 5
}
